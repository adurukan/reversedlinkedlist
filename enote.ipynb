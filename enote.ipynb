{
 "cells": [
  {
   "cell_type": "code",
   "execution_count": 1,
   "metadata": {},
   "outputs": [],
   "source": [
    "nterms = 100\n",
    "n1, n2 = 0, 1\n",
    "count = 0\n",
    "fibonlist = []\n",
    "fibonlist.append(n1)\n",
    "while count < 99:\n",
    "fibonlist.append(n2)\n",
    "    n1,n2 = n2, n1+n2\\n\n",
    "    \"    count = count+1\\n\""
   ]
  },
  {
   "cell_type": "code",
   "execution_count": null,
   "metadata": {},
   "outputs": [],
   "source": [
    "#A linked list consists of nodes which are made up of the actual value and the adress for what comes after that node.\\n\",\n",
    "# For instance, we have a linked list of A->B->C->D. Here the node A holds value A and the adress that points to B. The node D holds value\\n\",\n",
    "# D and the adress that points to None because there is no other node coming after that.\\n\",\n",
    "class Node:\n",
    "    def __init__(self, data):\n",
    "        self.data = data\n",
    "        self.next = None\n",
    "class Llist:\n",
    "    def __init__(self):\n",
    "        self.head = None\n",
    "# To reverse the list, we definetely need to access the current node and the previous node so that we can make sure adress of the current node\\n\",\n",
    "# points to the previous node. Using the linked list of A->B->C->D, I know that I need to change the adress of A to None and adress of B to A while\\n\",\n",
    "# moving forward to B and C for the next step. To start, I need to have previousNode = None and currentNode = A. Than I will assign currentNode.next\\n\",\n",
    "# to previousNode which is None. So far so good.Now I need to have previousNode=A and currentNode=B. How do I do that? I already changed the adress of \\n\",\n",
    "#A to None so I cannot just say previousNode=currentNode and currentNode = currentNode.next because that would return previousNode=A and currentNode=None.\\n\",\n",
    "#That is why I add a dummy variable called tempNode to hold the values before altering the adresses of nodes.Lastly, I stop this when currentNode is None.\\n\",\n",
    "    def reverse(self):\n",
    "        previousNode = None\n",
    "        currentNode = self.head \n",
    "        while(currentNode is not None):\n",
    "            tempNode = currentNode.next\n",
    "            currentNode.next = previousNode\n",
    "            previousNode = currentNode\n",
    "            currentNode = tempNode\n",
    "        self.head = previousNode\n",
    "#The function to add values and adresses of nodes. Watch out though If I feed A,B,C,D in this row I will get D->C->B->A since I assign \\n\",\n",
    "#newnode.next to head which is None and say head = newnode. \\n\",\n",
    "    def push(self, new_data):\n",
    "        new_node = Node(new_data)\n",
    "        new_node.next = self.head\n",
    "        self.head = new_node\n",
    "    def printlinkedlist(self):\n",
    "        temp = self.head\n",
    "        while(temp):\n",
    "            print (temp.data)\n",
    "            temp = temp.next"
   ]
  },
  {
   "cell_type": "code",
   "execution_count": 2,
   "metadata": {},
   "outputs": [
    {
     "ename": "NameError",
     "evalue": "name 'fibonlist' is not defined",
     "output_type": "error",
     "traceback": [
      "\u001b[1;31m---------------------------------------------------------------------------\u001b[0m",
      "\u001b[1;31mNameError\u001b[0m                                 Traceback (most recent call last)",
      "\u001b[1;32m<ipython-input-2-671107b8165e>\u001b[0m in \u001b[0;36m<module>\u001b[1;34m\u001b[0m\n\u001b[0;32m      1\u001b[0m \u001b[0mlinkedlist\u001b[0m \u001b[1;33m=\u001b[0m \u001b[0mLlist\u001b[0m\u001b[1;33m(\u001b[0m\u001b[1;33m)\u001b[0m\u001b[1;33m\u001b[0m\u001b[1;33m\u001b[0m\u001b[0m\n\u001b[1;32m----> 2\u001b[1;33m \u001b[1;32mfor\u001b[0m \u001b[0mi\u001b[0m \u001b[1;32min\u001b[0m \u001b[0mreversed\u001b[0m\u001b[1;33m(\u001b[0m\u001b[0mrange\u001b[0m\u001b[1;33m(\u001b[0m\u001b[0mlen\u001b[0m\u001b[1;33m(\u001b[0m\u001b[0mfibonlist\u001b[0m\u001b[1;33m)\u001b[0m\u001b[1;33m)\u001b[0m\u001b[1;33m)\u001b[0m\u001b[1;33m:\u001b[0m\u001b[1;33m\u001b[0m\u001b[1;33m\u001b[0m\u001b[0m\n\u001b[0m\u001b[0;32m      3\u001b[0m     \u001b[0mlinkedlist\u001b[0m\u001b[1;33m.\u001b[0m\u001b[0mpush\u001b[0m\u001b[1;33m(\u001b[0m\u001b[0mfibonlist\u001b[0m\u001b[1;33m[\u001b[0m\u001b[0mi\u001b[0m\u001b[1;33m]\u001b[0m\u001b[1;33m)\u001b[0m\u001b[1;33m\u001b[0m\u001b[1;33m\u001b[0m\u001b[0m\n",
      "\u001b[1;31mNameError\u001b[0m: name 'fibonlist' is not defined"
     ]
    }
   ],
   "source": [
    "linkedlist = Llist()\n",
    "for i in reversed(range(len(fibonlist))):\n",
    "    linkedlist.push(fibonlist[i])"
   ]
  },
  {
   "cell_type": "code",
   "execution_count": null,
   "metadata": {},
   "outputs": [],
   "source": []
  }
 ],
 "metadata": {
  "kernelspec": {
   "display_name": "Python 3",
   "language": "python",
   "name": "python3"
  },
  "language_info": {
   "codemirror_mode": {
    "name": "ipython",
    "version": 3
   },
   "file_extension": ".py",
   "mimetype": "text/x-python",
   "name": "python",
   "nbconvert_exporter": "python",
   "pygments_lexer": "ipython3",
   "version": "3.7.7"
  }
 },
 "nbformat": 4,
 "nbformat_minor": 4
}
